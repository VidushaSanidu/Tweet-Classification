{
 "cells": [
  {
   "cell_type": "markdown",
   "id": "f86757cd",
   "metadata": {
    "papermill": {
     "duration": 0.0035,
     "end_time": "2025-06-09T08:14:55.839713",
     "exception": false,
     "start_time": "2025-06-09T08:14:55.836213",
     "status": "completed"
    },
    "tags": []
   },
   "source": [
    "## Importing Libraries and Files"
   ]
  },
  {
   "cell_type": "code",
   "execution_count": 1,
   "id": "1533db17",
   "metadata": {
    "_cell_guid": "b1076dfc-b9ad-4769-8c92-a6c4dae69d19",
    "_uuid": "8f2839f25d086af736a60e9eeb907d3b93b6e0e5",
    "execution": {
     "iopub.execute_input": "2025-06-09T08:14:55.847016Z",
     "iopub.status.busy": "2025-06-09T08:14:55.846701Z",
     "iopub.status.idle": "2025-06-09T08:15:17.737273Z",
     "shell.execute_reply": "2025-06-09T08:15:17.736338Z"
    },
    "papermill": {
     "duration": 21.896141,
     "end_time": "2025-06-09T08:15:17.738997",
     "exception": false,
     "start_time": "2025-06-09T08:14:55.842856",
     "status": "completed"
    },
    "tags": []
   },
   "outputs": [
    {
     "name": "stderr",
     "output_type": "stream",
     "text": [
      "2025-06-09 08:15:01.975511: E external/local_xla/xla/stream_executor/cuda/cuda_fft.cc:477] Unable to register cuFFT factory: Attempting to register factory for plugin cuFFT when one has already been registered\n",
      "WARNING: All log messages before absl::InitializeLog() is called are written to STDERR\n",
      "E0000 00:00:1749456902.231958      13 cuda_dnn.cc:8310] Unable to register cuDNN factory: Attempting to register factory for plugin cuDNN when one has already been registered\n",
      "E0000 00:00:1749456902.307609      13 cuda_blas.cc:1418] Unable to register cuBLAS factory: Attempting to register factory for plugin cuBLAS when one has already been registered\n",
      "[nltk_data] Downloading package stopwords to /usr/share/nltk_data...\n",
      "[nltk_data]   Package stopwords is already up-to-date!\n",
      "[nltk_data] Downloading package wordnet to /usr/share/nltk_data...\n",
      "[nltk_data]   Package wordnet is already up-to-date!\n"
     ]
    }
   ],
   "source": [
    "import numpy as np\n",
    "import pandas as pd \n",
    "import re\n",
    "\n",
    "import matplotlib.pyplot as plt\n",
    "import seaborn as sns\n",
    "\n",
    "from sklearn.metrics import accuracy_score, classification_report\n",
    "from tensorflow.keras.preprocessing.text import Tokenizer\n",
    "from tensorflow.keras.preprocessing.sequence import pad_sequences\n",
    "from tensorflow.keras.models import Sequential\n",
    "from tensorflow.keras.layers import Embedding, LSTM, Bidirectional, Dense, Dropout\n",
    "from tensorflow.keras.callbacks import ModelCheckpoint, EarlyStopping\n",
    "from tensorflow.keras.models import load_model\n",
    "\n",
    "# for text preprocessing\n",
    "from nltk.corpus import stopwords\n",
    "from nltk.stem import WordNetLemmatizer\n",
    "import nltk\n",
    "\n",
    "# download necessary NLTK data\n",
    "nltk.download('stopwords')\n",
    "nltk.download('wordnet')\n",
    "\n",
    "train_data = pd.read_csv(\"/kaggle/input/phm-dataset/phm_train.csv\")\n",
    "test_data = pd.read_csv(\"/kaggle/input/phm-dataset/phm_test.csv\")\n",
    "\n",
    "# print(train_data.head())\n"
   ]
  },
  {
   "cell_type": "markdown",
   "id": "f4819bd9",
   "metadata": {
    "papermill": {
     "duration": 0.002755,
     "end_time": "2025-06-09T08:15:17.744863",
     "exception": false,
     "start_time": "2025-06-09T08:15:17.742108",
     "status": "completed"
    },
    "tags": []
   },
   "source": [
    "## Preprocessing"
   ]
  },
  {
   "cell_type": "code",
   "execution_count": 2,
   "id": "3e9228bc",
   "metadata": {
    "execution": {
     "iopub.execute_input": "2025-06-09T08:15:17.751828Z",
     "iopub.status.busy": "2025-06-09T08:15:17.751494Z",
     "iopub.status.idle": "2025-06-09T08:15:17.760413Z",
     "shell.execute_reply": "2025-06-09T08:15:17.759389Z"
    },
    "papermill": {
     "duration": 0.014351,
     "end_time": "2025-06-09T08:15:17.762040",
     "exception": false,
     "start_time": "2025-06-09T08:15:17.747689",
     "status": "completed"
    },
    "tags": []
   },
   "outputs": [],
   "source": [
    "stop_words = set(stopwords.words('english'))\n",
    "lemmatizer = WordNetLemmatizer()\n",
    "\n",
    "def preprocess_tweet(tweet):\n",
    "    tweet = re.sub(r'http\\S+|www\\S+|https\\S+', '', tweet, flags=re.MULTILINE) # remove url\n",
    "    tweet = re.sub(r'[^\\w\\s]', '', tweet)        # remove punctuations\n",
    "    tweet = re.sub(r'<.*?>', '', tweet)          # remove html tag\n",
    "    tweet = re.sub(r'[^A-Za-z]', ' ', tweet)     # remove non alphabet\n",
    "    tweet = tweet.lower()                        # make it all lower case\n",
    "    \n",
    "    # remove stopwords\n",
    "    filtered_words = [lemmatizer.lemmatize(w) for w in tweet.split() if w not in stop_words]\n",
    "\n",
    "    return \" \".join(filtered_words)"
   ]
  },
  {
   "cell_type": "code",
   "execution_count": 3,
   "id": "8c36a04c",
   "metadata": {
    "execution": {
     "iopub.execute_input": "2025-06-09T08:15:17.768956Z",
     "iopub.status.busy": "2025-06-09T08:15:17.768612Z",
     "iopub.status.idle": "2025-06-09T08:15:21.823837Z",
     "shell.execute_reply": "2025-06-09T08:15:21.822983Z"
    },
    "papermill": {
     "duration": 4.060496,
     "end_time": "2025-06-09T08:15:21.825426",
     "exception": false,
     "start_time": "2025-06-09T08:15:17.764930",
     "status": "completed"
    },
    "tags": []
   },
   "outputs": [],
   "source": [
    "X_train = train_data['tweet'].apply(preprocess_tweet)\n",
    "X_test = test_data['tweet'].apply(preprocess_tweet)\n",
    "\n",
    "Y_train = train_data['label']\n",
    "Y_test = test_data['label']\n",
    "\n",
    "#X_train.head()\n",
    "#Y_train.head()"
   ]
  },
  {
   "cell_type": "markdown",
   "id": "350d4cdc",
   "metadata": {
    "papermill": {
     "duration": 0.002753,
     "end_time": "2025-06-09T08:15:21.831380",
     "exception": false,
     "start_time": "2025-06-09T08:15:21.828627",
     "status": "completed"
    },
    "tags": []
   },
   "source": [
    "## Tokenize and Pad/Truncate"
   ]
  },
  {
   "cell_type": "code",
   "execution_count": 4,
   "id": "076737c8",
   "metadata": {
    "execution": {
     "iopub.execute_input": "2025-06-09T08:15:21.838937Z",
     "iopub.status.busy": "2025-06-09T08:15:21.838054Z",
     "iopub.status.idle": "2025-06-09T08:15:21.843110Z",
     "shell.execute_reply": "2025-06-09T08:15:21.842186Z"
    },
    "papermill": {
     "duration": 0.010263,
     "end_time": "2025-06-09T08:15:21.844528",
     "exception": false,
     "start_time": "2025-06-09T08:15:21.834265",
     "status": "completed"
    },
    "tags": []
   },
   "outputs": [],
   "source": [
    "def get_max_length():\n",
    "    review_length = []\n",
    "    for review in X_train:\n",
    "        review_length.append(len(review))\n",
    "\n",
    "    return int(np.ceil(np.mean(review_length)))"
   ]
  },
  {
   "cell_type": "code",
   "execution_count": 5,
   "id": "1f3ad50b",
   "metadata": {
    "execution": {
     "iopub.execute_input": "2025-06-09T08:15:21.852426Z",
     "iopub.status.busy": "2025-06-09T08:15:21.851424Z",
     "iopub.status.idle": "2025-06-09T08:15:22.167597Z",
     "shell.execute_reply": "2025-06-09T08:15:22.166507Z"
    },
    "papermill": {
     "duration": 0.321352,
     "end_time": "2025-06-09T08:15:22.168953",
     "exception": false,
     "start_time": "2025-06-09T08:15:21.847601",
     "status": "completed"
    },
    "tags": []
   },
   "outputs": [
    {
     "name": "stdout",
     "output_type": "stream",
     "text": [
      "\n",
      "Found 11677 unique tokens.\n",
      "Shape of X_train_pad: (9991, 60)\n",
      "Shape of Y_train: (9991,)\n",
      "Shape of X_test_pad: (3331, 60)\n",
      "Shape of Y_test: (3331,)\n"
     ]
    }
   ],
   "source": [
    "max_length = get_max_length()   # max length of a tweet\n",
    "embedding_dim = 100 # dimension of the word embeddings\n",
    "\n",
    "# Initialize and fit the tokenizer\n",
    "tokenizer = Tokenizer(lower=False)\n",
    "tokenizer.fit_on_texts(X_train)\n",
    "\n",
    "# Convert text to sequences of integers\n",
    "X_train_seq = tokenizer.texts_to_sequences(X_train)\n",
    "X_test_seq = tokenizer.texts_to_sequences(X_test)\n",
    "\n",
    "# Pad sequences to ensure uniform length\n",
    "X_train_pad = pad_sequences(X_train_seq, maxlen=max_length, padding='post', truncating='post')\n",
    "X_test_pad = pad_sequences(X_test_seq, maxlen=max_length, padding='post', truncating='post')\n",
    "\n",
    "word_index = tokenizer.word_index\n",
    "total_words = len(tokenizer.word_index) + 1\n",
    "\n",
    "print(f\"\\nFound {len(word_index)} unique tokens.\")\n",
    "print(\"Shape of X_train_pad:\", X_train_pad.shape)\n",
    "print(\"Shape of Y_train:\", Y_train.shape)\n",
    "\n",
    "print(\"Shape of X_test_pad:\", X_test_pad.shape)\n",
    "print(\"Shape of Y_test:\", Y_test.shape)"
   ]
  },
  {
   "cell_type": "markdown",
   "id": "6ed2ee49",
   "metadata": {
    "papermill": {
     "duration": 0.00271,
     "end_time": "2025-06-09T08:15:22.174921",
     "exception": false,
     "start_time": "2025-06-09T08:15:22.172211",
     "status": "completed"
    },
    "tags": []
   },
   "source": [
    "# MODEL 1 : LSTM"
   ]
  },
  {
   "cell_type": "code",
   "execution_count": 6,
   "id": "19412306",
   "metadata": {
    "execution": {
     "iopub.execute_input": "2025-06-09T08:15:22.182514Z",
     "iopub.status.busy": "2025-06-09T08:15:22.181516Z",
     "iopub.status.idle": "2025-06-09T08:19:30.617674Z",
     "shell.execute_reply": "2025-06-09T08:19:30.616606Z"
    },
    "papermill": {
     "duration": 248.441312,
     "end_time": "2025-06-09T08:19:30.619124",
     "exception": false,
     "start_time": "2025-06-09T08:15:22.177812",
     "status": "completed"
    },
    "tags": []
   },
   "outputs": [
    {
     "name": "stdout",
     "output_type": "stream",
     "text": [
      "Epoch 1/10\n"
     ]
    },
    {
     "name": "stderr",
     "output_type": "stream",
     "text": [
      "/usr/local/lib/python3.11/dist-packages/keras/src/layers/core/embedding.py:90: UserWarning: Argument `input_length` is deprecated. Just remove it.\n",
      "  warnings.warn(\n",
      "2025-06-09 08:15:22.192139: E external/local_xla/xla/stream_executor/cuda/cuda_driver.cc:152] failed call to cuInit: INTERNAL: CUDA error: Failed call to cuInit: UNKNOWN ERROR (303)\n"
     ]
    },
    {
     "name": "stdout",
     "output_type": "stream",
     "text": [
      "\u001b[1m312/313\u001b[0m \u001b[32m━━━━━━━━━━━━━━━━━━━\u001b[0m\u001b[37m━\u001b[0m \u001b[1m0s\u001b[0m 65ms/step - accuracy: 0.7011 - loss: 0.6181\n",
      "Epoch 1: val_accuracy improved from -inf to 0.70970, saving model to best_lstm_model.h5\n",
      "\u001b[1m313/313\u001b[0m \u001b[32m━━━━━━━━━━━━━━━━━━━━\u001b[0m\u001b[37m\u001b[0m \u001b[1m27s\u001b[0m 75ms/step - accuracy: 0.7011 - loss: 0.6180 - val_accuracy: 0.7097 - val_loss: 0.6066\n",
      "Epoch 2/10\n",
      "\u001b[1m312/313\u001b[0m \u001b[32m━━━━━━━━━━━━━━━━━━━\u001b[0m\u001b[37m━\u001b[0m \u001b[1m0s\u001b[0m 64ms/step - accuracy: 0.7138 - loss: 0.6029\n",
      "Epoch 2: val_accuracy did not improve from 0.70970\n",
      "\u001b[1m313/313\u001b[0m \u001b[32m━━━━━━━━━━━━━━━━━━━━\u001b[0m\u001b[37m\u001b[0m \u001b[1m23s\u001b[0m 72ms/step - accuracy: 0.7137 - loss: 0.6029 - val_accuracy: 0.7097 - val_loss: 0.6025\n",
      "Epoch 3/10\n",
      "\u001b[1m312/313\u001b[0m \u001b[32m━━━━━━━━━━━━━━━━━━━\u001b[0m\u001b[37m━\u001b[0m \u001b[1m0s\u001b[0m 64ms/step - accuracy: 0.7020 - loss: 0.6109\n",
      "Epoch 3: val_accuracy did not improve from 0.70970\n",
      "\u001b[1m313/313\u001b[0m \u001b[32m━━━━━━━━━━━━━━━━━━━━\u001b[0m\u001b[37m\u001b[0m \u001b[1m41s\u001b[0m 72ms/step - accuracy: 0.7021 - loss: 0.6108 - val_accuracy: 0.7097 - val_loss: 0.6040\n",
      "Epoch 4/10\n",
      "\u001b[1m312/313\u001b[0m \u001b[32m━━━━━━━━━━━━━━━━━━━\u001b[0m\u001b[37m━\u001b[0m \u001b[1m0s\u001b[0m 63ms/step - accuracy: 0.7049 - loss: 0.6092\n",
      "Epoch 4: val_accuracy did not improve from 0.70970\n",
      "\u001b[1m313/313\u001b[0m \u001b[32m━━━━━━━━━━━━━━━━━━━━\u001b[0m\u001b[37m\u001b[0m \u001b[1m22s\u001b[0m 71ms/step - accuracy: 0.7049 - loss: 0.6092 - val_accuracy: 0.7097 - val_loss: 0.6025\n",
      "Epoch 5/10\n",
      "\u001b[1m312/313\u001b[0m \u001b[32m━━━━━━━━━━━━━━━━━━━\u001b[0m\u001b[37m━\u001b[0m \u001b[1m0s\u001b[0m 65ms/step - accuracy: 0.7080 - loss: 0.6066\n",
      "Epoch 5: val_accuracy did not improve from 0.70970\n",
      "\u001b[1m313/313\u001b[0m \u001b[32m━━━━━━━━━━━━━━━━━━━━\u001b[0m\u001b[37m\u001b[0m \u001b[1m23s\u001b[0m 72ms/step - accuracy: 0.7080 - loss: 0.6066 - val_accuracy: 0.7097 - val_loss: 0.6027\n",
      "Epoch 6/10\n",
      "\u001b[1m312/313\u001b[0m \u001b[32m━━━━━━━━━━━━━━━━━━━\u001b[0m\u001b[37m━\u001b[0m \u001b[1m0s\u001b[0m 65ms/step - accuracy: 0.7030 - loss: 0.6097\n",
      "Epoch 6: val_accuracy did not improve from 0.70970\n",
      "\u001b[1m313/313\u001b[0m \u001b[32m━━━━━━━━━━━━━━━━━━━━\u001b[0m\u001b[37m\u001b[0m \u001b[1m23s\u001b[0m 72ms/step - accuracy: 0.7031 - loss: 0.6096 - val_accuracy: 0.7097 - val_loss: 0.6034\n",
      "Epoch 7/10\n",
      "\u001b[1m312/313\u001b[0m \u001b[32m━━━━━━━━━━━━━━━━━━━\u001b[0m\u001b[37m━\u001b[0m \u001b[1m0s\u001b[0m 64ms/step - accuracy: 0.7045 - loss: 0.6113\n",
      "Epoch 7: val_accuracy did not improve from 0.70970\n",
      "\u001b[1m313/313\u001b[0m \u001b[32m━━━━━━━━━━━━━━━━━━━━\u001b[0m\u001b[37m\u001b[0m \u001b[1m22s\u001b[0m 71ms/step - accuracy: 0.7045 - loss: 0.6113 - val_accuracy: 0.7097 - val_loss: 0.6026\n",
      "Epoch 8/10\n",
      "\u001b[1m312/313\u001b[0m \u001b[32m━━━━━━━━━━━━━━━━━━━\u001b[0m\u001b[37m━\u001b[0m \u001b[1m0s\u001b[0m 65ms/step - accuracy: 0.7049 - loss: 0.6077\n",
      "Epoch 8: val_accuracy did not improve from 0.70970\n",
      "\u001b[1m313/313\u001b[0m \u001b[32m━━━━━━━━━━━━━━━━━━━━\u001b[0m\u001b[37m\u001b[0m \u001b[1m23s\u001b[0m 73ms/step - accuracy: 0.7049 - loss: 0.6077 - val_accuracy: 0.7097 - val_loss: 0.6024\n",
      "Epoch 9/10\n",
      "\u001b[1m312/313\u001b[0m \u001b[32m━━━━━━━━━━━━━━━━━━━\u001b[0m\u001b[37m━\u001b[0m \u001b[1m0s\u001b[0m 65ms/step - accuracy: 0.7131 - loss: 0.6015\n",
      "Epoch 9: val_accuracy did not improve from 0.70970\n",
      "\u001b[1m313/313\u001b[0m \u001b[32m━━━━━━━━━━━━━━━━━━━━\u001b[0m\u001b[37m\u001b[0m \u001b[1m23s\u001b[0m 73ms/step - accuracy: 0.7130 - loss: 0.6015 - val_accuracy: 0.7097 - val_loss: 0.6026\n",
      "Epoch 10/10\n",
      "\u001b[1m312/313\u001b[0m \u001b[32m━━━━━━━━━━━━━━━━━━━\u001b[0m\u001b[37m━\u001b[0m \u001b[1m0s\u001b[0m 63ms/step - accuracy: 0.7140 - loss: 0.6005\n",
      "Epoch 10: val_accuracy did not improve from 0.70970\n",
      "\u001b[1m313/313\u001b[0m \u001b[32m━━━━━━━━━━━━━━━━━━━━\u001b[0m\u001b[37m\u001b[0m \u001b[1m22s\u001b[0m 71ms/step - accuracy: 0.7140 - loss: 0.6005 - val_accuracy: 0.7097 - val_loss: 0.6039\n",
      "Restoring model weights from the end of the best epoch: 8.\n"
     ]
    },
    {
     "data": {
      "text/html": [
       "<pre style=\"white-space:pre;overflow-x:auto;line-height:normal;font-family:Menlo,'DejaVu Sans Mono',consolas,'Courier New',monospace\"><span style=\"font-weight: bold\">Model: \"sequential\"</span>\n",
       "</pre>\n"
      ],
      "text/plain": [
       "\u001b[1mModel: \"sequential\"\u001b[0m\n"
      ]
     },
     "metadata": {},
     "output_type": "display_data"
    },
    {
     "data": {
      "text/html": [
       "<pre style=\"white-space:pre;overflow-x:auto;line-height:normal;font-family:Menlo,'DejaVu Sans Mono',consolas,'Courier New',monospace\">┏━━━━━━━━━━━━━━━━━━━━━━━━━━━━━━━━━━━━━━┳━━━━━━━━━━━━━━━━━━━━━━━━━━━━━┳━━━━━━━━━━━━━━━━━┓\n",
       "┃<span style=\"font-weight: bold\"> Layer (type)                         </span>┃<span style=\"font-weight: bold\"> Output Shape                </span>┃<span style=\"font-weight: bold\">         Param # </span>┃\n",
       "┡━━━━━━━━━━━━━━━━━━━━━━━━━━━━━━━━━━━━━━╇━━━━━━━━━━━━━━━━━━━━━━━━━━━━━╇━━━━━━━━━━━━━━━━━┩\n",
       "│ embedding (<span style=\"color: #0087ff; text-decoration-color: #0087ff\">Embedding</span>)                │ (<span style=\"color: #00d7ff; text-decoration-color: #00d7ff\">None</span>, <span style=\"color: #00af00; text-decoration-color: #00af00\">60</span>, <span style=\"color: #00af00; text-decoration-color: #00af00\">100</span>)             │       <span style=\"color: #00af00; text-decoration-color: #00af00\">1,167,800</span> │\n",
       "├──────────────────────────────────────┼─────────────────────────────┼─────────────────┤\n",
       "│ lstm (<span style=\"color: #0087ff; text-decoration-color: #0087ff\">LSTM</span>)                          │ (<span style=\"color: #00d7ff; text-decoration-color: #00d7ff\">None</span>, <span style=\"color: #00af00; text-decoration-color: #00af00\">128</span>)                 │         <span style=\"color: #00af00; text-decoration-color: #00af00\">117,248</span> │\n",
       "├──────────────────────────────────────┼─────────────────────────────┼─────────────────┤\n",
       "│ dropout (<span style=\"color: #0087ff; text-decoration-color: #0087ff\">Dropout</span>)                    │ (<span style=\"color: #00d7ff; text-decoration-color: #00d7ff\">None</span>, <span style=\"color: #00af00; text-decoration-color: #00af00\">128</span>)                 │               <span style=\"color: #00af00; text-decoration-color: #00af00\">0</span> │\n",
       "├──────────────────────────────────────┼─────────────────────────────┼─────────────────┤\n",
       "│ dense (<span style=\"color: #0087ff; text-decoration-color: #0087ff\">Dense</span>)                        │ (<span style=\"color: #00d7ff; text-decoration-color: #00d7ff\">None</span>, <span style=\"color: #00af00; text-decoration-color: #00af00\">1</span>)                   │             <span style=\"color: #00af00; text-decoration-color: #00af00\">129</span> │\n",
       "└──────────────────────────────────────┴─────────────────────────────┴─────────────────┘\n",
       "</pre>\n"
      ],
      "text/plain": [
       "┏━━━━━━━━━━━━━━━━━━━━━━━━━━━━━━━━━━━━━━┳━━━━━━━━━━━━━━━━━━━━━━━━━━━━━┳━━━━━━━━━━━━━━━━━┓\n",
       "┃\u001b[1m \u001b[0m\u001b[1mLayer (type)                        \u001b[0m\u001b[1m \u001b[0m┃\u001b[1m \u001b[0m\u001b[1mOutput Shape               \u001b[0m\u001b[1m \u001b[0m┃\u001b[1m \u001b[0m\u001b[1m        Param #\u001b[0m\u001b[1m \u001b[0m┃\n",
       "┡━━━━━━━━━━━━━━━━━━━━━━━━━━━━━━━━━━━━━━╇━━━━━━━━━━━━━━━━━━━━━━━━━━━━━╇━━━━━━━━━━━━━━━━━┩\n",
       "│ embedding (\u001b[38;5;33mEmbedding\u001b[0m)                │ (\u001b[38;5;45mNone\u001b[0m, \u001b[38;5;34m60\u001b[0m, \u001b[38;5;34m100\u001b[0m)             │       \u001b[38;5;34m1,167,800\u001b[0m │\n",
       "├──────────────────────────────────────┼─────────────────────────────┼─────────────────┤\n",
       "│ lstm (\u001b[38;5;33mLSTM\u001b[0m)                          │ (\u001b[38;5;45mNone\u001b[0m, \u001b[38;5;34m128\u001b[0m)                 │         \u001b[38;5;34m117,248\u001b[0m │\n",
       "├──────────────────────────────────────┼─────────────────────────────┼─────────────────┤\n",
       "│ dropout (\u001b[38;5;33mDropout\u001b[0m)                    │ (\u001b[38;5;45mNone\u001b[0m, \u001b[38;5;34m128\u001b[0m)                 │               \u001b[38;5;34m0\u001b[0m │\n",
       "├──────────────────────────────────────┼─────────────────────────────┼─────────────────┤\n",
       "│ dense (\u001b[38;5;33mDense\u001b[0m)                        │ (\u001b[38;5;45mNone\u001b[0m, \u001b[38;5;34m1\u001b[0m)                   │             \u001b[38;5;34m129\u001b[0m │\n",
       "└──────────────────────────────────────┴─────────────────────────────┴─────────────────┘\n"
      ]
     },
     "metadata": {},
     "output_type": "display_data"
    },
    {
     "data": {
      "text/html": [
       "<pre style=\"white-space:pre;overflow-x:auto;line-height:normal;font-family:Menlo,'DejaVu Sans Mono',consolas,'Courier New',monospace\"><span style=\"font-weight: bold\"> Total params: </span><span style=\"color: #00af00; text-decoration-color: #00af00\">3,855,533</span> (14.71 MB)\n",
       "</pre>\n"
      ],
      "text/plain": [
       "\u001b[1m Total params: \u001b[0m\u001b[38;5;34m3,855,533\u001b[0m (14.71 MB)\n"
      ]
     },
     "metadata": {},
     "output_type": "display_data"
    },
    {
     "data": {
      "text/html": [
       "<pre style=\"white-space:pre;overflow-x:auto;line-height:normal;font-family:Menlo,'DejaVu Sans Mono',consolas,'Courier New',monospace\"><span style=\"font-weight: bold\"> Trainable params: </span><span style=\"color: #00af00; text-decoration-color: #00af00\">1,285,177</span> (4.90 MB)\n",
       "</pre>\n"
      ],
      "text/plain": [
       "\u001b[1m Trainable params: \u001b[0m\u001b[38;5;34m1,285,177\u001b[0m (4.90 MB)\n"
      ]
     },
     "metadata": {},
     "output_type": "display_data"
    },
    {
     "data": {
      "text/html": [
       "<pre style=\"white-space:pre;overflow-x:auto;line-height:normal;font-family:Menlo,'DejaVu Sans Mono',consolas,'Courier New',monospace\"><span style=\"font-weight: bold\"> Non-trainable params: </span><span style=\"color: #00af00; text-decoration-color: #00af00\">0</span> (0.00 B)\n",
       "</pre>\n"
      ],
      "text/plain": [
       "\u001b[1m Non-trainable params: \u001b[0m\u001b[38;5;34m0\u001b[0m (0.00 B)\n"
      ]
     },
     "metadata": {},
     "output_type": "display_data"
    },
    {
     "data": {
      "text/html": [
       "<pre style=\"white-space:pre;overflow-x:auto;line-height:normal;font-family:Menlo,'DejaVu Sans Mono',consolas,'Courier New',monospace\"><span style=\"font-weight: bold\"> Optimizer params: </span><span style=\"color: #00af00; text-decoration-color: #00af00\">2,570,356</span> (9.81 MB)\n",
       "</pre>\n"
      ],
      "text/plain": [
       "\u001b[1m Optimizer params: \u001b[0m\u001b[38;5;34m2,570,356\u001b[0m (9.81 MB)\n"
      ]
     },
     "metadata": {},
     "output_type": "display_data"
    }
   ],
   "source": [
    "LSTM_OUT = 128\n",
    "EPOCHS = 10\n",
    "BATCH = 32\n",
    "\n",
    "lstm_model = Sequential([\n",
    "    Embedding(input_dim=total_words, output_dim=embedding_dim, input_length=max_length),\n",
    "    LSTM(units=LSTM_OUT, return_sequences=False),\n",
    "    Dropout(0.5),\n",
    "    Dense(1, activation='sigmoid')\n",
    "])\n",
    "\n",
    "# Compile the model\n",
    "lstm_model.compile(optimizer='adam', loss='binary_crossentropy', metrics=['accuracy'])\n",
    "\n",
    "\n",
    "# Define callbacks\n",
    "# Save the best model during training\n",
    "lstm_checkpoint = ModelCheckpoint('best_lstm_model.h5', save_best_only=True, monitor='val_accuracy', mode='max', verbose=1)\n",
    "early_stopping = EarlyStopping(monitor='val_loss', patience=5, restore_best_weights=True, verbose=1)\n",
    "\n",
    "# Train Model\n",
    "history_lstm = lstm_model.fit(\n",
    "    X_train_pad, Y_train,\n",
    "    epochs=EPOCHS,\n",
    "    batch_size=BATCH,\n",
    "    validation_data=(X_test_pad, Y_test),\n",
    "    callbacks=[lstm_checkpoint, early_stopping]\n",
    ")\n",
    "lstm_model.summary()\n"
   ]
  },
  {
   "cell_type": "markdown",
   "id": "ed42a9e2",
   "metadata": {
    "papermill": {
     "duration": 0.15764,
     "end_time": "2025-06-09T08:19:30.934542",
     "exception": false,
     "start_time": "2025-06-09T08:19:30.776902",
     "status": "completed"
    },
    "tags": []
   },
   "source": [
    "# MODEL 2: Bi-LSTM"
   ]
  },
  {
   "cell_type": "code",
   "execution_count": 7,
   "id": "18b22557",
   "metadata": {
    "execution": {
     "iopub.execute_input": "2025-06-09T08:19:31.246214Z",
     "iopub.status.busy": "2025-06-09T08:19:31.245903Z",
     "iopub.status.idle": "2025-06-09T08:22:54.431127Z",
     "shell.execute_reply": "2025-06-09T08:22:54.430202Z"
    },
    "papermill": {
     "duration": 203.342177,
     "end_time": "2025-06-09T08:22:54.432592",
     "exception": false,
     "start_time": "2025-06-09T08:19:31.090415",
     "status": "completed"
    },
    "tags": []
   },
   "outputs": [
    {
     "name": "stdout",
     "output_type": "stream",
     "text": [
      "Epoch 1/10\n",
      "\u001b[1m313/313\u001b[0m \u001b[32m━━━━━━━━━━━━━━━━━━━━\u001b[0m\u001b[37m\u001b[0m \u001b[1m0s\u001b[0m 95ms/step - accuracy: 0.7476 - loss: 0.5342\n",
      "Epoch 1: val_accuracy improved from -inf to 0.82948, saving model to best_bilstm_model.h5\n",
      "\u001b[1m313/313\u001b[0m \u001b[32m━━━━━━━━━━━━━━━━━━━━\u001b[0m\u001b[37m\u001b[0m \u001b[1m39s\u001b[0m 107ms/step - accuracy: 0.7477 - loss: 0.5340 - val_accuracy: 0.8295 - val_loss: 0.3902\n",
      "Epoch 2/10\n",
      "\u001b[1m312/313\u001b[0m \u001b[32m━━━━━━━━━━━━━━━━━━━\u001b[0m\u001b[37m━\u001b[0m \u001b[1m0s\u001b[0m 95ms/step - accuracy: 0.8787 - loss: 0.3008\n",
      "Epoch 2: val_accuracy did not improve from 0.82948\n",
      "\u001b[1m313/313\u001b[0m \u001b[32m━━━━━━━━━━━━━━━━━━━━\u001b[0m\u001b[37m\u001b[0m \u001b[1m33s\u001b[0m 104ms/step - accuracy: 0.8786 - loss: 0.3009 - val_accuracy: 0.8205 - val_loss: 0.4089\n",
      "Epoch 3/10\n",
      "\u001b[1m312/313\u001b[0m \u001b[32m━━━━━━━━━━━━━━━━━━━\u001b[0m\u001b[37m━\u001b[0m \u001b[1m0s\u001b[0m 95ms/step - accuracy: 0.9184 - loss: 0.2107\n",
      "Epoch 3: val_accuracy did not improve from 0.82948\n",
      "\u001b[1m313/313\u001b[0m \u001b[32m━━━━━━━━━━━━━━━━━━━━\u001b[0m\u001b[37m\u001b[0m \u001b[1m33s\u001b[0m 104ms/step - accuracy: 0.9184 - loss: 0.2108 - val_accuracy: 0.8088 - val_loss: 0.4433\n",
      "Epoch 4/10\n",
      "\u001b[1m313/313\u001b[0m \u001b[32m━━━━━━━━━━━━━━━━━━━━\u001b[0m\u001b[37m\u001b[0m \u001b[1m0s\u001b[0m 95ms/step - accuracy: 0.9431 - loss: 0.1503\n",
      "Epoch 4: val_accuracy did not improve from 0.82948\n",
      "\u001b[1m313/313\u001b[0m \u001b[32m━━━━━━━━━━━━━━━━━━━━\u001b[0m\u001b[37m\u001b[0m \u001b[1m33s\u001b[0m 105ms/step - accuracy: 0.9431 - loss: 0.1503 - val_accuracy: 0.8010 - val_loss: 0.5207\n",
      "Epoch 5/10\n",
      "\u001b[1m313/313\u001b[0m \u001b[32m━━━━━━━━━━━━━━━━━━━━\u001b[0m\u001b[37m\u001b[0m \u001b[1m0s\u001b[0m 95ms/step - accuracy: 0.9605 - loss: 0.1118\n",
      "Epoch 5: val_accuracy did not improve from 0.82948\n",
      "\u001b[1m313/313\u001b[0m \u001b[32m━━━━━━━━━━━━━━━━━━━━\u001b[0m\u001b[37m\u001b[0m \u001b[1m33s\u001b[0m 105ms/step - accuracy: 0.9605 - loss: 0.1118 - val_accuracy: 0.7923 - val_loss: 0.7079\n",
      "Epoch 6/10\n",
      "\u001b[1m313/313\u001b[0m \u001b[32m━━━━━━━━━━━━━━━━━━━━\u001b[0m\u001b[37m\u001b[0m \u001b[1m0s\u001b[0m 95ms/step - accuracy: 0.9708 - loss: 0.0819\n",
      "Epoch 6: val_accuracy did not improve from 0.82948\n",
      "\u001b[1m313/313\u001b[0m \u001b[32m━━━━━━━━━━━━━━━━━━━━\u001b[0m\u001b[37m\u001b[0m \u001b[1m33s\u001b[0m 105ms/step - accuracy: 0.9708 - loss: 0.0819 - val_accuracy: 0.7959 - val_loss: 0.8082\n",
      "Epoch 6: early stopping\n",
      "Restoring model weights from the end of the best epoch: 1.\n"
     ]
    },
    {
     "data": {
      "text/html": [
       "<pre style=\"white-space:pre;overflow-x:auto;line-height:normal;font-family:Menlo,'DejaVu Sans Mono',consolas,'Courier New',monospace\"><span style=\"font-weight: bold\">Model: \"sequential_1\"</span>\n",
       "</pre>\n"
      ],
      "text/plain": [
       "\u001b[1mModel: \"sequential_1\"\u001b[0m\n"
      ]
     },
     "metadata": {},
     "output_type": "display_data"
    },
    {
     "data": {
      "text/html": [
       "<pre style=\"white-space:pre;overflow-x:auto;line-height:normal;font-family:Menlo,'DejaVu Sans Mono',consolas,'Courier New',monospace\">┏━━━━━━━━━━━━━━━━━━━━━━━━━━━━━━━━━━━━━━┳━━━━━━━━━━━━━━━━━━━━━━━━━━━━━┳━━━━━━━━━━━━━━━━━┓\n",
       "┃<span style=\"font-weight: bold\"> Layer (type)                         </span>┃<span style=\"font-weight: bold\"> Output Shape                </span>┃<span style=\"font-weight: bold\">         Param # </span>┃\n",
       "┡━━━━━━━━━━━━━━━━━━━━━━━━━━━━━━━━━━━━━━╇━━━━━━━━━━━━━━━━━━━━━━━━━━━━━╇━━━━━━━━━━━━━━━━━┩\n",
       "│ embedding_1 (<span style=\"color: #0087ff; text-decoration-color: #0087ff\">Embedding</span>)              │ (<span style=\"color: #00d7ff; text-decoration-color: #00d7ff\">None</span>, <span style=\"color: #00af00; text-decoration-color: #00af00\">60</span>, <span style=\"color: #00af00; text-decoration-color: #00af00\">100</span>)             │       <span style=\"color: #00af00; text-decoration-color: #00af00\">1,167,800</span> │\n",
       "├──────────────────────────────────────┼─────────────────────────────┼─────────────────┤\n",
       "│ bidirectional (<span style=\"color: #0087ff; text-decoration-color: #0087ff\">Bidirectional</span>)        │ (<span style=\"color: #00d7ff; text-decoration-color: #00d7ff\">None</span>, <span style=\"color: #00af00; text-decoration-color: #00af00\">256</span>)                 │         <span style=\"color: #00af00; text-decoration-color: #00af00\">234,496</span> │\n",
       "├──────────────────────────────────────┼─────────────────────────────┼─────────────────┤\n",
       "│ dropout_1 (<span style=\"color: #0087ff; text-decoration-color: #0087ff\">Dropout</span>)                  │ (<span style=\"color: #00d7ff; text-decoration-color: #00d7ff\">None</span>, <span style=\"color: #00af00; text-decoration-color: #00af00\">256</span>)                 │               <span style=\"color: #00af00; text-decoration-color: #00af00\">0</span> │\n",
       "├──────────────────────────────────────┼─────────────────────────────┼─────────────────┤\n",
       "│ dense_1 (<span style=\"color: #0087ff; text-decoration-color: #0087ff\">Dense</span>)                      │ (<span style=\"color: #00d7ff; text-decoration-color: #00d7ff\">None</span>, <span style=\"color: #00af00; text-decoration-color: #00af00\">1</span>)                   │             <span style=\"color: #00af00; text-decoration-color: #00af00\">257</span> │\n",
       "└──────────────────────────────────────┴─────────────────────────────┴─────────────────┘\n",
       "</pre>\n"
      ],
      "text/plain": [
       "┏━━━━━━━━━━━━━━━━━━━━━━━━━━━━━━━━━━━━━━┳━━━━━━━━━━━━━━━━━━━━━━━━━━━━━┳━━━━━━━━━━━━━━━━━┓\n",
       "┃\u001b[1m \u001b[0m\u001b[1mLayer (type)                        \u001b[0m\u001b[1m \u001b[0m┃\u001b[1m \u001b[0m\u001b[1mOutput Shape               \u001b[0m\u001b[1m \u001b[0m┃\u001b[1m \u001b[0m\u001b[1m        Param #\u001b[0m\u001b[1m \u001b[0m┃\n",
       "┡━━━━━━━━━━━━━━━━━━━━━━━━━━━━━━━━━━━━━━╇━━━━━━━━━━━━━━━━━━━━━━━━━━━━━╇━━━━━━━━━━━━━━━━━┩\n",
       "│ embedding_1 (\u001b[38;5;33mEmbedding\u001b[0m)              │ (\u001b[38;5;45mNone\u001b[0m, \u001b[38;5;34m60\u001b[0m, \u001b[38;5;34m100\u001b[0m)             │       \u001b[38;5;34m1,167,800\u001b[0m │\n",
       "├──────────────────────────────────────┼─────────────────────────────┼─────────────────┤\n",
       "│ bidirectional (\u001b[38;5;33mBidirectional\u001b[0m)        │ (\u001b[38;5;45mNone\u001b[0m, \u001b[38;5;34m256\u001b[0m)                 │         \u001b[38;5;34m234,496\u001b[0m │\n",
       "├──────────────────────────────────────┼─────────────────────────────┼─────────────────┤\n",
       "│ dropout_1 (\u001b[38;5;33mDropout\u001b[0m)                  │ (\u001b[38;5;45mNone\u001b[0m, \u001b[38;5;34m256\u001b[0m)                 │               \u001b[38;5;34m0\u001b[0m │\n",
       "├──────────────────────────────────────┼─────────────────────────────┼─────────────────┤\n",
       "│ dense_1 (\u001b[38;5;33mDense\u001b[0m)                      │ (\u001b[38;5;45mNone\u001b[0m, \u001b[38;5;34m1\u001b[0m)                   │             \u001b[38;5;34m257\u001b[0m │\n",
       "└──────────────────────────────────────┴─────────────────────────────┴─────────────────┘\n"
      ]
     },
     "metadata": {},
     "output_type": "display_data"
    },
    {
     "data": {
      "text/html": [
       "<pre style=\"white-space:pre;overflow-x:auto;line-height:normal;font-family:Menlo,'DejaVu Sans Mono',consolas,'Courier New',monospace\"><span style=\"font-weight: bold\"> Total params: </span><span style=\"color: #00af00; text-decoration-color: #00af00\">4,207,661</span> (16.05 MB)\n",
       "</pre>\n"
      ],
      "text/plain": [
       "\u001b[1m Total params: \u001b[0m\u001b[38;5;34m4,207,661\u001b[0m (16.05 MB)\n"
      ]
     },
     "metadata": {},
     "output_type": "display_data"
    },
    {
     "data": {
      "text/html": [
       "<pre style=\"white-space:pre;overflow-x:auto;line-height:normal;font-family:Menlo,'DejaVu Sans Mono',consolas,'Courier New',monospace\"><span style=\"font-weight: bold\"> Trainable params: </span><span style=\"color: #00af00; text-decoration-color: #00af00\">1,402,553</span> (5.35 MB)\n",
       "</pre>\n"
      ],
      "text/plain": [
       "\u001b[1m Trainable params: \u001b[0m\u001b[38;5;34m1,402,553\u001b[0m (5.35 MB)\n"
      ]
     },
     "metadata": {},
     "output_type": "display_data"
    },
    {
     "data": {
      "text/html": [
       "<pre style=\"white-space:pre;overflow-x:auto;line-height:normal;font-family:Menlo,'DejaVu Sans Mono',consolas,'Courier New',monospace\"><span style=\"font-weight: bold\"> Non-trainable params: </span><span style=\"color: #00af00; text-decoration-color: #00af00\">0</span> (0.00 B)\n",
       "</pre>\n"
      ],
      "text/plain": [
       "\u001b[1m Non-trainable params: \u001b[0m\u001b[38;5;34m0\u001b[0m (0.00 B)\n"
      ]
     },
     "metadata": {},
     "output_type": "display_data"
    },
    {
     "data": {
      "text/html": [
       "<pre style=\"white-space:pre;overflow-x:auto;line-height:normal;font-family:Menlo,'DejaVu Sans Mono',consolas,'Courier New',monospace\"><span style=\"font-weight: bold\"> Optimizer params: </span><span style=\"color: #00af00; text-decoration-color: #00af00\">2,805,108</span> (10.70 MB)\n",
       "</pre>\n"
      ],
      "text/plain": [
       "\u001b[1m Optimizer params: \u001b[0m\u001b[38;5;34m2,805,108\u001b[0m (10.70 MB)\n"
      ]
     },
     "metadata": {},
     "output_type": "display_data"
    }
   ],
   "source": [
    "LSTM_OUT = 128\n",
    "EPOCHS = 10\n",
    "BATCH = 32\n",
    "\n",
    "bilstm_model = Sequential([\n",
    "\n",
    "    Embedding(input_dim=total_words, output_dim=embedding_dim, input_length=max_length),\n",
    "    Bidirectional(LSTM(units=LSTM_OUT, return_sequences=False)),\n",
    "    Dropout(0.5),\n",
    "    Dense(1, activation='sigmoid')\n",
    "])\n",
    "\n",
    "# Compile the model\n",
    "bilstm_model.compile(optimizer='adam', loss='binary_crossentropy', metrics=['accuracy'])\n",
    "\n",
    "\n",
    "# Define callbacks \n",
    "bilstm_checkpoint = ModelCheckpoint('best_bilstm_model.h5', save_best_only=True, monitor='val_accuracy', mode='max', verbose=1)\n",
    "\n",
    "# Train Model\n",
    "history_bilstm = bilstm_model.fit(\n",
    "    X_train_pad, Y_train,\n",
    "    epochs=10,\n",
    "    batch_size=32,\n",
    "    validation_data=(X_test_pad, Y_test),\n",
    "    callbacks=[bilstm_checkpoint, early_stopping]\n",
    ")\n",
    "bilstm_model.summary()"
   ]
  },
  {
   "cell_type": "markdown",
   "id": "af3bb08b",
   "metadata": {
    "papermill": {
     "duration": 0.250721,
     "end_time": "2025-06-09T08:22:54.937107",
     "exception": false,
     "start_time": "2025-06-09T08:22:54.686386",
     "status": "completed"
    },
    "tags": []
   },
   "source": [
    "## Model Evaluation and Comparison"
   ]
  },
  {
   "cell_type": "code",
   "execution_count": 8,
   "id": "204d8dd8",
   "metadata": {
    "execution": {
     "iopub.execute_input": "2025-06-09T08:22:55.516348Z",
     "iopub.status.busy": "2025-06-09T08:22:55.516004Z",
     "iopub.status.idle": "2025-06-09T08:23:03.367320Z",
     "shell.execute_reply": "2025-06-09T08:23:03.366387Z"
    },
    "papermill": {
     "duration": 8.181699,
     "end_time": "2025-06-09T08:23:03.369090",
     "exception": false,
     "start_time": "2025-06-09T08:22:55.187391",
     "status": "completed"
    },
    "tags": []
   },
   "outputs": [
    {
     "name": "stdout",
     "output_type": "stream",
     "text": [
      "LSTM Model - Test Loss: 0.6066, Test Accuracy: 0.7097\n",
      "Bi-LSTM Model - Test Loss: 0.3902, Test Accuracy: 0.8295\n"
     ]
    },
    {
     "data": {
      "image/png": "[encoded data removed]",
      "text/plain": [
       "<Figure size 1200x1200 with 2 Axes>"
      ]
     },
     "metadata": {},
     "output_type": "display_data"
    }
   ],
   "source": [
    "# Load the best performing models saved during training\n",
    "best_lstm = load_model('best_lstm_model.h5')\n",
    "best_bilstm = load_model('best_bilstm_model.h5')\n",
    "\n",
    "# Evaluate LSTM on test data\n",
    "loss_lstm, acc_lstm = best_lstm.evaluate(X_test_pad, Y_test, verbose=0)\n",
    "print(f\"LSTM Model - Test Loss: {loss_lstm:.4f}, Test Accuracy: {acc_lstm:.4f}\")\n",
    "\n",
    "# Evaluate Bi-LSTM on test data\n",
    "loss_bilstm, acc_bilstm = best_bilstm.evaluate(X_test_pad, Y_test, verbose=0)\n",
    "print(f\"Bi-LSTM Model - Test Loss: {loss_bilstm:.4f}, Test Accuracy: {acc_bilstm:.4f}\")\n",
    "\n",
    "\n",
    "# Plotting training history for comparison\n",
    "plt.style.use('seaborn-v0_8-whitegrid')\n",
    "fig, (ax1, ax2) = plt.subplots(2, 1, figsize=(12, 12))\n",
    "fig.suptitle('Model Performance Comparison', fontsize=16)\n",
    "\n",
    "# Plot Accuracy\n",
    "ax1.plot(history_lstm.history['accuracy'], label='LSTM Train Accuracy', color='blue', linestyle='--')\n",
    "ax1.plot(history_lstm.history['val_accuracy'], label='LSTM Val Accuracy', color='blue')\n",
    "ax1.plot(history_bilstm.history['accuracy'], label='Bi-LSTM Train Accuracy', color='green', linestyle='--')\n",
    "ax1.plot(history_bilstm.history['val_accuracy'], label='Bi-LSTM Val Accuracy', color='green')\n",
    "ax1.set_ylabel('Accuracy')\n",
    "ax1.set_title('Model Accuracy')\n",
    "ax1.legend()\n",
    "\n",
    "# Plot Loss\n",
    "ax2.plot(history_lstm.history['loss'], label='LSTM Train Loss', color='red', linestyle='--')\n",
    "ax2.plot(history_lstm.history['val_loss'], label='LSTM Val Loss', color='red')\n",
    "ax2.plot(history_bilstm.history['loss'], label='Bi-LSTM Train Loss', color='orange', linestyle='--')\n",
    "ax2.plot(history_bilstm.history['val_loss'], label='Bi-LSTM Val Loss', color='orange')\n",
    "ax2.set_xlabel('Epochs')\n",
    "ax2.set_ylabel('Loss')\n",
    "ax2.set_title('Model Loss')\n",
    "ax2.legend()\n",
    "\n",
    "plt.show()"
   ]
  }
 ],
 "metadata": {
  "kaggle": {
   "accelerator": "none",
   "dataSources": [
    {
     "datasetId": 7619292,
     "sourceId": 12102889,
     "sourceType": "datasetVersion"
    }
   ],
   "dockerImageVersionId": 31040,
   "isGpuEnabled": false,
   "isInternetEnabled": true,
   "language": "python",
   "sourceType": "notebook"
  },
  "kernelspec": {
   "display_name": "Python 3",
   "language": "python",
   "name": "python3"
  },
  "language_info": {
   "codemirror_mode": {
    "name": "ipython",
    "version": 3
   },
   "file_extension": ".py",
   "mimetype": "text/x-python",
   "name": "python",
   "nbconvert_exporter": "python",
   "pygments_lexer": "ipython3",
   "version": "3.11.11"
  },
  "papermill": {
   "default_parameters": {},
   "duration": 495.556338,
   "end_time": "2025-06-09T08:23:06.676979",
   "environment_variables": {},
   "exception": null,
   "input_path": "__notebook__.ipynb",
   "output_path": "__notebook__.ipynb",
   "parameters": {},
   "start_time": "2025-06-09T08:14:51.120641",
   "version": "2.6.0"
  }
 },
 "nbformat": 4,
 "nbformat_minor": 5
}
